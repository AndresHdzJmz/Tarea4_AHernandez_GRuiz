{
 "cells": [
  {
   "cell_type": "markdown",
   "metadata": {},
   "source": [
    "<img style=\"float: left; margin: 30px 15px 15px 15px;\" src=\"https://pngimage.net/wp-content/uploads/2018/06/logo-iteso-png-5.png\" width=\"300\" height=\"500\" /> \n",
    "    \n",
    "    \n",
    "### <font color='navy'> Simulación de procesos financieros. \n",
    "\n",
    "**Nombres:** Andrés Hernández Jiménez, Gerardo Ruiz Velasco Lazalde.\n",
    "\n",
    "**Fecha:** 20 de febrero del 2021.\n",
    "\n",
    "**Expediente** : 717895, .\n",
    "**Profesor:** Oscar David Jaramillo Zuluaga.\n",
    "\n",
    "**Link repositorio: https://github.com/AndresHdzJmz/Tarea4_AHernandez_GRuiz **\n",
    "\n",
    "# Tarea 4: Clase 7"
   ]
  },
  {
   "cell_type": "markdown",
   "metadata": {},
   "source": [
    "# Tarea 4\n",
    "\n",
    "# 1\n",
    "Como ejemplo simple de una simulación de Monte Carlo, considere calcular la probabilidad de una suma particular del lanzamiento de tres dados (cada dado tiene valores del uno al seis). Además cada dado tiene las siguientes carácterísticas: el primer dado no está cargado (distribución uniforme todos son equiprobables); el segundo y tercer dado están cargados basados en una distribución binomial con parámetros (`n=5, p=0.5` y `n=5, p=0.2`). Calcule la probabilidad de que la suma resultante sea 7, 14 o 18. "
   ]
  },
  {
   "cell_type": "code",
   "execution_count": null,
   "metadata": {},
   "outputs": [],
   "source": [
    "#Respuesta Andrés"
   ]
  },
  {
   "cell_type": "code",
   "execution_count": null,
   "metadata": {},
   "outputs": [],
   "source": []
  },
  {
   "cell_type": "code",
   "execution_count": 1,
   "metadata": {},
   "outputs": [],
   "source": [
    "#Respuesta Gerardo"
   ]
  },
  {
   "cell_type": "code",
   "execution_count": 2,
   "metadata": {},
   "outputs": [
    {
     "data": {
      "text/plain": [
       "array([0.12712, 0.01359, 0.     ])"
      ]
     },
     "execution_count": 2,
     "metadata": {},
     "output_type": "execute_result"
    }
   ],
   "source": [
    "import numpy as np\n",
    "import matplotlib.pyplot as plt\n",
    "import scipy.stats as st\n",
    "np.random.seed(123)\n",
    "N=100000\n",
    "# Graficar el histograma de 1000 lanazamientos del dado\n",
    "d_no_cargad= np.random.randint(1,7,N)\n",
    "d_cargado= st.binom(n=5,p=0.5, loc = 1).rvs(size=N)\n",
    "d_cargado2= st.binom(n=5,p=0.2, loc = 1).rvs(size=N)\n",
    "\n",
    "sumadados= d_cargado + d_cargado2 + d_no_cargad\n",
    "\n",
    "proba7 = sum(list(map(lambda x: 1 if x == 7 else 0, sumadados))) / N\n",
    "proba14 = sum(list(map(lambda x: 1 if x == 14 else 0, sumadados))) / N\n",
    "proba18 = sum(list(map(lambda x: 1 if x == 18 else 0, sumadados))) / N\n",
    "\n",
    "np.array([proba7,proba14,proba18])"
   ]
  },
  {
   "cell_type": "markdown",
   "metadata": {},
   "source": [
    "# 2 Ejercicio de aplicación- Cafetería Central\n",
    "\n",
    "Premisas para la simulación:\n",
    "- Negocio de alimentos que vende bebidas y alimentos.\n",
    "- Negocio dentro del ITESO.\n",
    "- Negocio en cafetería central.\n",
    "- Tipo de clientes (hombres y mujeres).\n",
    "- Rentabilidad del 60%.\n",
    "\n",
    "## Objetivo\n",
    "Realizar una simulación estimado el tiempo medio que se tardaran los clientes en ser atendidos entre el horario de 6:30 a 1 pm. Además saber el consumo. \n",
    "**Analizar supuestos y limitantes**"
   ]
  },
  {
   "cell_type": "markdown",
   "metadata": {},
   "source": [
    "## Supuestos en simulación\n",
    "Clasificación de clientes: \n",
    "- Mujer  = 1 $\\longrightarrow$ aleatorio < 0.5\n",
    "- Hombre = 0 $\\longrightarrow$ aleatorio $\\geq$ 0.5.\n",
    "\n",
    "Condiciones iniciales:\n",
    "- Todas las distrubuciones de probabilidad se supondrán uniformes.\n",
    "- Tiempo de simulación: 6:30 am - 1:30pm $\\longrightarrow$ T = 7 horas = 25200 seg.\n",
    "- Tiempo de llegada hasta ser atendido: Min=5seg, Max=30seg.\n",
    "- Tiempo que tardan los clientes en ser atendidos:\n",
    "    - Mujer: Min = 1 min= 60seg, Max = 5 min = 300 seg\n",
    "    - Hombre: Min = 40 seg, Max = 2 min= 120 seg\n",
    "- Consumo según el tipo de cliente:\n",
    "    - Mujer: Min = 30 pesos, Max = 100 pesos\n",
    "    - Hombre: Min = 20 pesos, Max = 80 pesos\n",
    "\n",
    "Responder las siguientes preguntas basados en los datos del problema:\n",
    "1. ¿Cuáles fueron los gastos de los hombres y las mujeres en 5 días de trabajo?.\n",
    "2. ¿Cuál fue el consumo promedio de los hombres y mujeres?\n",
    "3. ¿Cuál fue el número de personas atendidas por día?\n",
    "4. ¿Cuál fue el tiempo de atención promedio?\n",
    "5. ¿Cuánto fue la ganancia promedio de la cafetería en 5 días de trabajo y su respectiva rentabilidad?"
   ]
  },
  {
   "cell_type": "code",
   "execution_count": 3,
   "metadata": {},
   "outputs": [],
   "source": [
    "################## Datos del problema\n",
    "d = 5\n",
    "T =25200\n",
    "T_at_min = 5; T_at_max = 30\n",
    "T_mujer_min =60; T_mujer_max = 300\n",
    "T_hombre_min = 40; T_hombre_max = 120\n",
    "C_mujer_min = 30; C_mujer_max = 100\n",
    "C_hombre_min = 20; C_hombre_max = 80\n"
   ]
  },
  {
   "cell_type": "code",
   "execution_count": 4,
   "metadata": {},
   "outputs": [],
   "source": [
    "#Respuesta Andrés"
   ]
  },
  {
   "cell_type": "code",
   "execution_count": null,
   "metadata": {},
   "outputs": [],
   "source": []
  },
  {
   "cell_type": "code",
   "execution_count": 5,
   "metadata": {},
   "outputs": [],
   "source": [
    "#Respuesta Gerardo"
   ]
  },
  {
   "cell_type": "code",
   "execution_count": null,
   "metadata": {},
   "outputs": [],
   "source": []
  },
  {
   "cell_type": "code",
   "execution_count": 7,
   "metadata": {},
   "outputs": [
    {
     "name": "stdout",
     "output_type": "stream",
     "text": [
      "[ 3995.43373154  5843.83262184    64.93147358    52.57149647\n",
      "   166.           152.24948508 29517.79906015]\n"
     ]
    }
   ],
   "source": [
    "#MoH = [[1 if Personas[i,j] < 0.5 else 0 for j in range(Personas.shape[1])] for i in range(len(Personas))]\n",
    "np.random.seed(302)\n",
    "def Ejercicio2(Personas,T):\n",
    "    tiempo_total = 0 \n",
    "    i = 0 \n",
    "    Mujeres = 0\n",
    "    Hombres = 0\n",
    "    Gasto_Hombre = 0\n",
    "    Gasto_Mujer = 0\n",
    "    Tiempo_Total = []   \n",
    "    \n",
    "    while tiempo_total <= T:\n",
    "        TiempoCero = np.random.uniform(T_at_min,T_at_max)\n",
    "        tiempo_total += TiempoCero\n",
    "        \n",
    "        if Personas[i]>=0.5:\n",
    "            TiempoAtencion = np.random.uniform(T_hombre_min,T_hombre_max)\n",
    "            tiempo_total += TiempoAtencion\n",
    "            Hombres += 1\n",
    "            Gasto_Hombre += np.random.uniform(C_hombre_min,C_hombre_max)\n",
    "        \n",
    "        else:#Personas<.5\n",
    "            TiempoAtencion = np.random.uniform(T_mujer_min,T_mujer_max)\n",
    "            tiempo_total += TiempoAtencion\n",
    "            Mujeres += 1\n",
    "            Gasto_Mujer += np.random.uniform(C_mujer_min,C_mujer_max)\n",
    "        \n",
    "        i += 1\n",
    "        Tiempo_Total.append(TiempoAtencion)\n",
    "        \n",
    "    \n",
    "    return np.array([Gasto_Hombre,Gasto_Mujer,Gasto_Mujer/Mujeres,Gasto_Hombre/Hombres,\n",
    "                    i,tiempo_total/i,(Gasto_Hombre+Gasto_Mujer)*0.6*5])\n",
    "print(Ejercicio2(np.random.rand(10000000),T))"
   ]
  },
  {
   "cell_type": "code",
   "execution_count": null,
   "metadata": {},
   "outputs": [],
   "source": []
  }
 ],
 "metadata": {
  "kernelspec": {
   "display_name": "Python 3",
   "language": "python",
   "name": "python3"
  },
  "language_info": {
   "codemirror_mode": {
    "name": "ipython",
    "version": 3
   },
   "file_extension": ".py",
   "mimetype": "text/x-python",
   "name": "python",
   "nbconvert_exporter": "python",
   "pygments_lexer": "ipython3",
   "version": "3.7.1"
  }
 },
 "nbformat": 4,
 "nbformat_minor": 2
}
